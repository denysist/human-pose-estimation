{
 "cells": [
  {
   "cell_type": "code",
   "execution_count": null,
   "metadata": {},
   "outputs": [],
   "source": [
    "%cd .."
   ]
  },
  {
   "cell_type": "code",
   "execution_count": null,
   "metadata": {},
   "outputs": [],
   "source": [
    "import pathlib\n",
    "\n",
    "import requests\n",
    "\n",
    "%load_ext nb_black"
   ]
  },
  {
   "cell_type": "code",
   "execution_count": null,
   "metadata": {},
   "outputs": [],
   "source": [
    "url = \"http://127.0.0.1:8000\"\n",
    "\n",
    "response = requests.get(url=url)\n",
    "response.json()"
   ]
  },
  {
   "cell_type": "code",
   "execution_count": null,
   "metadata": {},
   "outputs": [],
   "source": [
    "url = \"http://127.0.0.1:8000/image\"\n",
    "input_file = pathlib.Path(\"data/examples/inputs/images/image.jpg\")\n",
    "output_file = pathlib.Path(\"data/examples/outputs/images/image.png\")\n",
    "output_file.parent.mkdir(parents=True, exist_ok=True)\n",
    "data = {\n",
    "    \"box_threshold\": 0.5,\n",
    "    \"keypoint_threshold\": 0.3,\n",
    "    \"line_thickness\": 1,\n",
    "    \"point_radius\": 3,\n",
    "    \"draw_box\": True,\n",
    "    \"draw_skeleton\": True,\n",
    "    \"draw_keypoint\": True,\n",
    "}\n",
    "\n",
    "with open(file=input_file, mode=\"rb\") as file:\n",
    "    response = requests.post(url=url, data=data, files={\"input\": file})\n",
    "\n",
    "if response.status_code == 200:\n",
    "    with open(file=output_file, mode=\"wb\") as file:\n",
    "        file.write(response.content)"
   ]
  },
  {
   "cell_type": "code",
   "execution_count": null,
   "metadata": {},
   "outputs": [],
   "source": [
    "url = \"http://127.0.0.1:8000/video\"\n",
    "input_file = pathlib.Path(\"data/examples/inputs/videos/video.mp4\")\n",
    "output_file = pathlib.Path(\"data/examples/outputs/videos/video.mp4\")\n",
    "output_file.parent.mkdir(parents=True, exist_ok=True)\n",
    "data = {\n",
    "    \"box_threshold\": 0.5,\n",
    "    \"keypoint_threshold\": 0.3,\n",
    "    \"line_thickness\": 1,\n",
    "    \"point_radius\": 3,\n",
    "    \"draw_box\": True,\n",
    "    \"draw_skeleton\": True,\n",
    "    \"draw_keypoint\": True,\n",
    "    \"fps\": None,\n",
    "}\n",
    "\n",
    "with open(file=input_file, mode=\"rb\") as file:\n",
    "    response = requests.post(url=url, data=data, files={\"input\": file})\n",
    "\n",
    "if response.status_code == 200:\n",
    "    with open(file=output_file, mode=\"wb\") as file:\n",
    "        file.write(response.content)"
   ]
  }
 ],
 "metadata": {
  "kernelspec": {
   "display_name": "Python 3 (ipykernel)",
   "language": "python",
   "name": "python3"
  },
  "language_info": {
   "codemirror_mode": {
    "name": "ipython",
    "version": 3
   },
   "file_extension": ".py",
   "mimetype": "text/x-python",
   "name": "python",
   "nbconvert_exporter": "python",
   "pygments_lexer": "ipython3",
   "version": "3.10.9 (main, Dec 21 2022, 18:59:22) [GCC 10.2.1 20210110]"
  },
  "vscode": {
   "interpreter": {
    "hash": "949777d72b0d2535278d3dc13498b2535136f6dfe0678499012e853ee9abcab1"
   }
  }
 },
 "nbformat": 4,
 "nbformat_minor": 2
}
